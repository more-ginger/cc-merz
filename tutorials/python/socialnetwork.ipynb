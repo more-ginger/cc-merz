{
 "cells": [
  {
   "cell_type": "code",
   "execution_count": 1,
   "metadata": {},
   "outputs": [],
   "source": [
    "# IMPORTANT: please before starting run these two commands in the terminal: 'py -m pip uninstall snscrape' followed by \n",
    "# 'py -m pip install git+https://github.com/JustAnotherArchivist/snscrape.git', this should solve a bug in the library\n",
    "\n",
    "# import sns\n",
    "import snscrape as sns\n",
    "# import the twitter module\n",
    "import snscrape.modules.twitter as twitter\n",
    "# import pandas\n",
    "import pandas as pd"
   ]
  },
  {
   "cell_type": "code",
   "execution_count": 3,
   "metadata": {},
   "outputs": [
    {
     "data": {
      "text/plain": [
       "['Coordinates',\n",
       " 'DescriptionURL',\n",
       " 'Gif',\n",
       " 'GuestTokenManager',\n",
       " 'Medium',\n",
       " 'Photo',\n",
       " 'Place',\n",
       " 'TextLink',\n",
       " 'Trend',\n",
       " 'Tweet',\n",
       " 'TwitterCashtagScraper',\n",
       " 'TwitterHashtagScraper',\n",
       " 'TwitterListPostsScraper',\n",
       " 'TwitterProfileScraper',\n",
       " 'TwitterSearchScraper',\n",
       " 'TwitterTrendsScraper',\n",
       " 'TwitterTweetScraper',\n",
       " 'TwitterTweetScraperMode',\n",
       " 'TwitterUserScraper',\n",
       " 'User',\n",
       " 'UserLabel',\n",
       " 'Video',\n",
       " 'VideoVariant']"
      ]
     },
     "execution_count": 3,
     "metadata": {},
     "output_type": "execute_result"
    }
   ],
   "source": [
    "# list function and variables available for this module\n",
    "dir(twitter)"
   ]
  },
  {
   "cell_type": "code",
   "execution_count": 4,
   "metadata": {},
   "outputs": [
    {
     "name": "stderr",
     "output_type": "stream",
     "text": [
      "/var/folders/08/xfdjy_915919jpz4d3rjlqfw0000gn/T/ipykernel_8175/1245265752.py:7: DeprecatedFeatureWarning: content is deprecated, use rawContent instead\n",
      "  tweet.sourceLabel, tweet.content])\n"
     ]
    }
   ],
   "source": [
    "# Create an empty list (we will add data to it later)\n",
    "dataset = []\n",
    "\n",
    "# Create a for loop. We want to go through all the tweets in the query\n",
    "# The quert is composed by the module 'twitter' + the function to search on a specific hashtag (in this case '#dating') 'TwitterSearchScraper(query = '#dating')' \n",
    "# + the argument 'get_items()' to run the query online\n",
    "for i, tweet in enumerate(twitter.TwitterSearchScraper(query=\"#dating\").get_items()):\n",
    "    # We limit our query to 100 to avoid jamming the script (change the number to get more or less tweets)\n",
    "    if i > 100:\n",
    "        # When we go above 100 it stops...\n",
    "        break\n",
    "    # ... but before it will add each tweet to the list we created above. For each tweet we get some info like username, date, likeCount, etc.\n",
    "    dataset.append([tweet.user.username, tweet.date, tweet.likeCount, tweet.retweetCount, tweet.replyCount, tweet.lang,\n",
    "                   tweet.sourceLabel, tweet.content])\n"
   ]
  },
  {
   "cell_type": "code",
   "execution_count": 6,
   "metadata": {},
   "outputs": [
    {
     "data": {
      "text/html": [
       "<div>\n",
       "<style scoped>\n",
       "    .dataframe tbody tr th:only-of-type {\n",
       "        vertical-align: middle;\n",
       "    }\n",
       "\n",
       "    .dataframe tbody tr th {\n",
       "        vertical-align: top;\n",
       "    }\n",
       "\n",
       "    .dataframe thead th {\n",
       "        text-align: right;\n",
       "    }\n",
       "</style>\n",
       "<table border=\"1\" class=\"dataframe\">\n",
       "  <thead>\n",
       "    <tr style=\"text-align: right;\">\n",
       "      <th></th>\n",
       "      <th>username</th>\n",
       "      <th>date</th>\n",
       "      <th>likes</th>\n",
       "      <th>retweets</th>\n",
       "      <th>replies</th>\n",
       "      <th>language</th>\n",
       "      <th>source</th>\n",
       "      <th>content</th>\n",
       "    </tr>\n",
       "  </thead>\n",
       "  <tbody>\n",
       "    <tr>\n",
       "      <th>0</th>\n",
       "      <td>Miketherealakin</td>\n",
       "      <td>2023-05-15 17:33:17+00:00</td>\n",
       "      <td>0</td>\n",
       "      <td>0</td>\n",
       "      <td>0</td>\n",
       "      <td>en</td>\n",
       "      <td>None</td>\n",
       "      <td>When She Pays The Bill 😳\\n\\n#whopays #firstdat...</td>\n",
       "    </tr>\n",
       "    <tr>\n",
       "      <th>1</th>\n",
       "      <td>MediaTLF</td>\n",
       "      <td>2023-05-15 17:30:00+00:00</td>\n",
       "      <td>0</td>\n",
       "      <td>0</td>\n",
       "      <td>0</td>\n",
       "      <td>en</td>\n",
       "      <td>None</td>\n",
       "      <td>There you are… the old and modern woman. Are y...</td>\n",
       "    </tr>\n",
       "    <tr>\n",
       "      <th>2</th>\n",
       "      <td>theprofilepros</td>\n",
       "      <td>2023-05-15 17:29:24+00:00</td>\n",
       "      <td>0</td>\n",
       "      <td>0</td>\n",
       "      <td>0</td>\n",
       "      <td>en</td>\n",
       "      <td>None</td>\n",
       "      <td>Here are 10 surprising facts about online dati...</td>\n",
       "    </tr>\n",
       "    <tr>\n",
       "      <th>3</th>\n",
       "      <td>AnitaMura360202</td>\n",
       "      <td>2023-05-15 17:26:22+00:00</td>\n",
       "      <td>0</td>\n",
       "      <td>0</td>\n",
       "      <td>0</td>\n",
       "      <td>und</td>\n",
       "      <td>None</td>\n",
       "      <td>#Riyadh\\n#dating \\n#massage \\n#0597461601 http...</td>\n",
       "    </tr>\n",
       "    <tr>\n",
       "      <th>4</th>\n",
       "      <td>AnitaMura360202</td>\n",
       "      <td>2023-05-15 17:25:18+00:00</td>\n",
       "      <td>0</td>\n",
       "      <td>0</td>\n",
       "      <td>0</td>\n",
       "      <td>und</td>\n",
       "      <td>None</td>\n",
       "      <td>#Riyadh\\n#dating\\n#massage\\n#0597461601 https:...</td>\n",
       "    </tr>\n",
       "  </tbody>\n",
       "</table>\n",
       "</div>"
      ],
      "text/plain": [
       "          username                      date  likes  retweets  replies  \\\n",
       "0  Miketherealakin 2023-05-15 17:33:17+00:00      0         0        0   \n",
       "1         MediaTLF 2023-05-15 17:30:00+00:00      0         0        0   \n",
       "2   theprofilepros 2023-05-15 17:29:24+00:00      0         0        0   \n",
       "3  AnitaMura360202 2023-05-15 17:26:22+00:00      0         0        0   \n",
       "4  AnitaMura360202 2023-05-15 17:25:18+00:00      0         0        0   \n",
       "\n",
       "  language source                                            content  \n",
       "0       en   None  When She Pays The Bill 😳\\n\\n#whopays #firstdat...  \n",
       "1       en   None  There you are… the old and modern woman. Are y...  \n",
       "2       en   None  Here are 10 surprising facts about online dati...  \n",
       "3      und   None  #Riyadh\\n#dating \\n#massage \\n#0597461601 http...  \n",
       "4      und   None  #Riyadh\\n#dating\\n#massage\\n#0597461601 https:...  "
      ]
     },
     "execution_count": 6,
     "metadata": {},
     "output_type": "execute_result"
    }
   ],
   "source": [
    "# Once we are done we create a DataFrame with pandas. We specify the name for each column we have in the data\n",
    "tweet_data = pd.DataFrame(dataset, columns=['username','date','likes', 'retweets', 'replies', 'language', 'source', 'content'])\n",
    "# We print the first five to check the quality of our work!\n",
    "tweet_data.head(5)\n"
   ]
  },
  {
   "cell_type": "code",
   "execution_count": 15,
   "metadata": {},
   "outputs": [],
   "source": [
    "# We export a csv with our tweets!\n",
    "tweet_data.to_csv('output/output.csv')"
   ]
  },
  {
   "cell_type": "code",
   "execution_count": null,
   "metadata": {},
   "outputs": [],
   "source": []
  }
 ],
 "metadata": {
  "kernelspec": {
   "display_name": "my_env",
   "language": "python",
   "name": "python3"
  },
  "language_info": {
   "codemirror_mode": {
    "name": "ipython",
    "version": 3
   },
   "file_extension": ".py",
   "mimetype": "text/x-python",
   "name": "python",
   "nbconvert_exporter": "python",
   "pygments_lexer": "ipython3",
   "version": "3.10.5"
  },
  "orig_nbformat": 4
 },
 "nbformat": 4,
 "nbformat_minor": 2
}
